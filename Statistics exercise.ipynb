{
 "cells": [
  {
   "cell_type": "code",
   "execution_count": 2,
   "id": "b5daa079",
   "metadata": {},
   "outputs": [],
   "source": [
    "import numpy as np\n",
    "from pandas import Series,DataFrame\n",
    "import pandas as pd\n"
   ]
  },
  {
   "cell_type": "code",
   "execution_count": 4,
   "id": "5916ea7b",
   "metadata": {},
   "outputs": [
    {
     "data": {
      "text/plain": [
       "0     5.0\n",
       "1    10.0\n",
       "2    15.0\n",
       "3     NaN\n",
       "4    25.0\n",
       "5    30.0\n",
       "6     NaN\n",
       "dtype: float64"
      ]
     },
     "execution_count": 4,
     "metadata": {},
     "output_type": "execute_result"
    }
   ],
   "source": [
    "#1. Create a Series with the following data: data = [5, 10, 15, np.nan, 25, 30, np.nan]\n",
    "data = Series([5, 10, 15, np.nan, 25, 30, np.nan])\n",
    "data"
   ]
  },
  {
   "cell_type": "code",
   "execution_count": 48,
   "id": "3e936b09",
   "metadata": {},
   "outputs": [
    {
     "data": {
      "text/plain": [
       "0     5.0\n",
       "1    10.0\n",
       "2    15.0\n",
       "3     NaN\n",
       "4    25.0\n",
       "5    30.0\n",
       "6     NaN\n",
       "dtype: float64"
      ]
     },
     "execution_count": 48,
     "metadata": {},
     "output_type": "execute_result"
    }
   ],
   "source": [
    "#2. Calculate the sum of the Series along the rows.\n",
    "sum1 = data.loc[[0,1,2,3,4,5,6]]\n",
    "sum1"
   ]
  },
  {
   "cell_type": "code",
   "execution_count": 10,
   "id": "343df33b",
   "metadata": {},
   "outputs": [
    {
     "data": {
      "text/plain": [
       "85.0"
      ]
     },
     "execution_count": 10,
     "metadata": {},
     "output_type": "execute_result"
    }
   ],
   "source": [
    "#3. Calculate the sum of the Series along the columns\n",
    "data.sum()"
   ]
  },
  {
   "cell_type": "code",
   "execution_count": 7,
   "id": "52993ed9",
   "metadata": {},
   "outputs": [
    {
     "data": {
      "text/plain": [
       "5.0"
      ]
     },
     "execution_count": 7,
     "metadata": {},
     "output_type": "execute_result"
    }
   ],
   "source": [
    "#4. Calculate the minimum value in the Series\n",
    "data.min()\n"
   ]
  },
  {
   "cell_type": "code",
   "execution_count": 17,
   "id": "432a0c14",
   "metadata": {},
   "outputs": [
    {
     "data": {
      "text/plain": [
       "0"
      ]
     },
     "execution_count": 17,
     "metadata": {},
     "output_type": "execute_result"
    }
   ],
   "source": [
    "#5. Find the index label of the minimum value in the Series\n",
    "data.idxmin()\n"
   ]
  },
  {
   "cell_type": "code",
   "execution_count": 18,
   "id": "059a2835",
   "metadata": {},
   "outputs": [
    {
     "data": {
      "text/plain": [
       "0     5.0\n",
       "1    15.0\n",
       "2    30.0\n",
       "3     NaN\n",
       "4    55.0\n",
       "5    85.0\n",
       "6     NaN\n",
       "dtype: float64"
      ]
     },
     "execution_count": 18,
     "metadata": {},
     "output_type": "execute_result"
    }
   ],
   "source": [
    "#6. Calculate the cumulative sum of the Series.\n",
    "data.cumsum()"
   ]
  },
  {
   "cell_type": "code",
   "execution_count": 19,
   "id": "ec6ba598",
   "metadata": {},
   "outputs": [
    {
     "data": {
      "text/plain": [
       "count     5.000000\n",
       "mean     17.000000\n",
       "std      10.368221\n",
       "min       5.000000\n",
       "25%      10.000000\n",
       "50%      15.000000\n",
       "75%      25.000000\n",
       "max      30.000000\n",
       "dtype: float64"
      ]
     },
     "execution_count": 19,
     "metadata": {},
     "output_type": "execute_result"
    }
   ],
   "source": [
    "#7. Calculate the descriptive statistics of the Series using the describe method.\n",
    "data.describe()\n"
   ]
  },
  {
   "cell_type": "code",
   "execution_count": 20,
   "id": "0de32131",
   "metadata": {},
   "outputs": [
    {
     "data": {
      "text/plain": [
       "array([ 5., 10., 15., nan, 25., 30.])"
      ]
     },
     "execution_count": 20,
     "metadata": {},
     "output_type": "execute_result"
    }
   ],
   "source": [
    "#8. Find the unique values in the Series.\n",
    "data.unique()\n"
   ]
  },
  {
   "cell_type": "code",
   "execution_count": 21,
   "id": "c66e2fb3",
   "metadata": {},
   "outputs": [
    {
     "data": {
      "text/plain": [
       "5.0     1\n",
       "10.0    1\n",
       "15.0    1\n",
       "25.0    1\n",
       "30.0    1\n",
       "dtype: int64"
      ]
     },
     "execution_count": 21,
     "metadata": {},
     "output_type": "execute_result"
    }
   ],
   "source": [
    "#9. Calculate the count of each unique value in the Series using the value_counts method.\n",
    "data.value_counts()\n"
   ]
  },
  {
   "cell_type": "code",
   "execution_count": 24,
   "id": "2caef85b",
   "metadata": {},
   "outputs": [
    {
     "data": {
      "text/html": [
       "<div>\n",
       "<style scoped>\n",
       "    .dataframe tbody tr th:only-of-type {\n",
       "        vertical-align: middle;\n",
       "    }\n",
       "\n",
       "    .dataframe tbody tr th {\n",
       "        vertical-align: top;\n",
       "    }\n",
       "\n",
       "    .dataframe thead th {\n",
       "        text-align: right;\n",
       "    }\n",
       "</style>\n",
       "<table border=\"1\" class=\"dataframe\">\n",
       "  <thead>\n",
       "    <tr style=\"text-align: right;\">\n",
       "      <th></th>\n",
       "      <th>A</th>\n",
       "      <th>B</th>\n",
       "      <th>C</th>\n",
       "    </tr>\n",
       "  </thead>\n",
       "  <tbody>\n",
       "    <tr>\n",
       "      <th>0</th>\n",
       "      <td>1.0</td>\n",
       "      <td>10.0</td>\n",
       "      <td>100.0</td>\n",
       "    </tr>\n",
       "    <tr>\n",
       "      <th>1</th>\n",
       "      <td>2.0</td>\n",
       "      <td>20.0</td>\n",
       "      <td>NaN</td>\n",
       "    </tr>\n",
       "    <tr>\n",
       "      <th>2</th>\n",
       "      <td>NaN</td>\n",
       "      <td>30.0</td>\n",
       "      <td>300.0</td>\n",
       "    </tr>\n",
       "    <tr>\n",
       "      <th>3</th>\n",
       "      <td>4.0</td>\n",
       "      <td>NaN</td>\n",
       "      <td>400.0</td>\n",
       "    </tr>\n",
       "    <tr>\n",
       "      <th>4</th>\n",
       "      <td>5.0</td>\n",
       "      <td>50.0</td>\n",
       "      <td>500.0</td>\n",
       "    </tr>\n",
       "  </tbody>\n",
       "</table>\n",
       "</div>"
      ],
      "text/plain": [
       "     A     B      C\n",
       "0  1.0  10.0  100.0\n",
       "1  2.0  20.0    NaN\n",
       "2  NaN  30.0  300.0\n",
       "3  4.0   NaN  400.0\n",
       "4  5.0  50.0  500.0"
      ]
     },
     "execution_count": 24,
     "metadata": {},
     "output_type": "execute_result"
    }
   ],
   "source": [
    "#10. Create a DataFrame with the following data:data={'A':[1,2,np.nan,4,5],'B': [10, 20, 30,np.nan, 50], 'C': [100, np.nan, 300, 400, 500]}\n",
    "df = pd.DataFrame({\n",
    "    'A': [1, 2, np.nan, 4, 5],\n",
    "    'B': [10, 20, 30,np.nan, 50],\n",
    "    'C': [100, np.nan, 300, 400, 500]})\n",
    "df"
   ]
  },
  {
   "cell_type": "code",
   "execution_count": 25,
   "id": "f0b7c1e6",
   "metadata": {},
   "outputs": [
    {
     "data": {
      "text/plain": [
       "A      12.0\n",
       "B     110.0\n",
       "C    1300.0\n",
       "dtype: float64"
      ]
     },
     "execution_count": 25,
     "metadata": {},
     "output_type": "execute_result"
    }
   ],
   "source": [
    "#11. Calculate the sum of the DataFrame along the rows\n",
    "df.sum()\n"
   ]
  },
  {
   "cell_type": "code",
   "execution_count": 26,
   "id": "6e55ad18",
   "metadata": {},
   "outputs": [
    {
     "data": {
      "text/plain": [
       "0    111.0\n",
       "1     22.0\n",
       "2    330.0\n",
       "3    404.0\n",
       "4    555.0\n",
       "dtype: float64"
      ]
     },
     "execution_count": 26,
     "metadata": {},
     "output_type": "execute_result"
    }
   ],
   "source": [
    "#12. Calculate the sum of the DataFrame along the columns.\n",
    "df.sum(axis=1)\n"
   ]
  },
  {
   "cell_type": "code",
   "execution_count": 27,
   "id": "1767d04a",
   "metadata": {},
   "outputs": [
    {
     "data": {
      "text/plain": [
       "A      1.0\n",
       "B     10.0\n",
       "C    100.0\n",
       "dtype: float64"
      ]
     },
     "execution_count": 27,
     "metadata": {},
     "output_type": "execute_result"
    }
   ],
   "source": [
    "#13. Calculate the minimum value in the DataFrame.\n",
    "df.min()"
   ]
  },
  {
   "cell_type": "code",
   "execution_count": 28,
   "id": "425d3fd5",
   "metadata": {},
   "outputs": [
    {
     "data": {
      "text/plain": [
       "A    0\n",
       "B    0\n",
       "C    0\n",
       "dtype: int64"
      ]
     },
     "execution_count": 28,
     "metadata": {},
     "output_type": "execute_result"
    }
   ],
   "source": [
    "#14. Find the index label and column name of the minimum value in the DataFrame.\n",
    "df.idxmin()"
   ]
  },
  {
   "cell_type": "code",
   "execution_count": 29,
   "id": "2701043a",
   "metadata": {},
   "outputs": [
    {
     "data": {
      "text/html": [
       "<div>\n",
       "<style scoped>\n",
       "    .dataframe tbody tr th:only-of-type {\n",
       "        vertical-align: middle;\n",
       "    }\n",
       "\n",
       "    .dataframe tbody tr th {\n",
       "        vertical-align: top;\n",
       "    }\n",
       "\n",
       "    .dataframe thead th {\n",
       "        text-align: right;\n",
       "    }\n",
       "</style>\n",
       "<table border=\"1\" class=\"dataframe\">\n",
       "  <thead>\n",
       "    <tr style=\"text-align: right;\">\n",
       "      <th></th>\n",
       "      <th>A</th>\n",
       "      <th>B</th>\n",
       "      <th>C</th>\n",
       "    </tr>\n",
       "  </thead>\n",
       "  <tbody>\n",
       "    <tr>\n",
       "      <th>0</th>\n",
       "      <td>1.0</td>\n",
       "      <td>10.0</td>\n",
       "      <td>100.0</td>\n",
       "    </tr>\n",
       "    <tr>\n",
       "      <th>1</th>\n",
       "      <td>3.0</td>\n",
       "      <td>30.0</td>\n",
       "      <td>NaN</td>\n",
       "    </tr>\n",
       "    <tr>\n",
       "      <th>2</th>\n",
       "      <td>NaN</td>\n",
       "      <td>60.0</td>\n",
       "      <td>400.0</td>\n",
       "    </tr>\n",
       "    <tr>\n",
       "      <th>3</th>\n",
       "      <td>7.0</td>\n",
       "      <td>NaN</td>\n",
       "      <td>800.0</td>\n",
       "    </tr>\n",
       "    <tr>\n",
       "      <th>4</th>\n",
       "      <td>12.0</td>\n",
       "      <td>110.0</td>\n",
       "      <td>1300.0</td>\n",
       "    </tr>\n",
       "  </tbody>\n",
       "</table>\n",
       "</div>"
      ],
      "text/plain": [
       "      A      B       C\n",
       "0   1.0   10.0   100.0\n",
       "1   3.0   30.0     NaN\n",
       "2   NaN   60.0   400.0\n",
       "3   7.0    NaN   800.0\n",
       "4  12.0  110.0  1300.0"
      ]
     },
     "execution_count": 29,
     "metadata": {},
     "output_type": "execute_result"
    }
   ],
   "source": [
    "#15. Calculate the cumulative sum of the DataFrame.\n",
    "df.cumsum()"
   ]
  },
  {
   "cell_type": "code",
   "execution_count": 30,
   "id": "a67e900b",
   "metadata": {},
   "outputs": [
    {
     "data": {
      "text/html": [
       "<div>\n",
       "<style scoped>\n",
       "    .dataframe tbody tr th:only-of-type {\n",
       "        vertical-align: middle;\n",
       "    }\n",
       "\n",
       "    .dataframe tbody tr th {\n",
       "        vertical-align: top;\n",
       "    }\n",
       "\n",
       "    .dataframe thead th {\n",
       "        text-align: right;\n",
       "    }\n",
       "</style>\n",
       "<table border=\"1\" class=\"dataframe\">\n",
       "  <thead>\n",
       "    <tr style=\"text-align: right;\">\n",
       "      <th></th>\n",
       "      <th>A</th>\n",
       "      <th>B</th>\n",
       "      <th>C</th>\n",
       "    </tr>\n",
       "  </thead>\n",
       "  <tbody>\n",
       "    <tr>\n",
       "      <th>count</th>\n",
       "      <td>4.000000</td>\n",
       "      <td>4.000000</td>\n",
       "      <td>4.000000</td>\n",
       "    </tr>\n",
       "    <tr>\n",
       "      <th>mean</th>\n",
       "      <td>3.000000</td>\n",
       "      <td>27.500000</td>\n",
       "      <td>325.000000</td>\n",
       "    </tr>\n",
       "    <tr>\n",
       "      <th>std</th>\n",
       "      <td>1.825742</td>\n",
       "      <td>17.078251</td>\n",
       "      <td>170.782513</td>\n",
       "    </tr>\n",
       "    <tr>\n",
       "      <th>min</th>\n",
       "      <td>1.000000</td>\n",
       "      <td>10.000000</td>\n",
       "      <td>100.000000</td>\n",
       "    </tr>\n",
       "    <tr>\n",
       "      <th>25%</th>\n",
       "      <td>1.750000</td>\n",
       "      <td>17.500000</td>\n",
       "      <td>250.000000</td>\n",
       "    </tr>\n",
       "    <tr>\n",
       "      <th>50%</th>\n",
       "      <td>3.000000</td>\n",
       "      <td>25.000000</td>\n",
       "      <td>350.000000</td>\n",
       "    </tr>\n",
       "    <tr>\n",
       "      <th>75%</th>\n",
       "      <td>4.250000</td>\n",
       "      <td>35.000000</td>\n",
       "      <td>425.000000</td>\n",
       "    </tr>\n",
       "    <tr>\n",
       "      <th>max</th>\n",
       "      <td>5.000000</td>\n",
       "      <td>50.000000</td>\n",
       "      <td>500.000000</td>\n",
       "    </tr>\n",
       "  </tbody>\n",
       "</table>\n",
       "</div>"
      ],
      "text/plain": [
       "              A          B           C\n",
       "count  4.000000   4.000000    4.000000\n",
       "mean   3.000000  27.500000  325.000000\n",
       "std    1.825742  17.078251  170.782513\n",
       "min    1.000000  10.000000  100.000000\n",
       "25%    1.750000  17.500000  250.000000\n",
       "50%    3.000000  25.000000  350.000000\n",
       "75%    4.250000  35.000000  425.000000\n",
       "max    5.000000  50.000000  500.000000"
      ]
     },
     "execution_count": 30,
     "metadata": {},
     "output_type": "execute_result"
    }
   ],
   "source": [
    "#16. Calculate the descriptive statistics of the DataFrame using the describe method\n",
    "df.describe()\n"
   ]
  },
  {
   "cell_type": "code",
   "execution_count": 39,
   "id": "05333792",
   "metadata": {},
   "outputs": [
    {
     "data": {
      "text/plain": [
       "array([ 1.,  2., nan,  4.,  5.])"
      ]
     },
     "execution_count": 39,
     "metadata": {},
     "output_type": "execute_result"
    }
   ],
   "source": [
    "#17. Find the unique values in column 'A' of the DataFrame.\n",
    "pd.unique(df['A'])"
   ]
  },
  {
   "cell_type": "code",
   "execution_count": 46,
   "id": "2cde2063",
   "metadata": {},
   "outputs": [
    {
     "data": {
      "text/plain": [
       "array([ 1.,  2., nan,  4.,  5.])"
      ]
     },
     "execution_count": 46,
     "metadata": {},
     "output_type": "execute_result"
    }
   ],
   "source": [
    "#18. Calculate the count of each unique value in column 'A' of the DataFrame using the value_counts method.\n",
    "n =pd.unique(df['A'])\n",
    "n"
   ]
  },
  {
   "cell_type": "code",
   "execution_count": null,
   "id": "6e11dc2e",
   "metadata": {},
   "outputs": [],
   "source": [
    "#19. Sort the DataFrame by column 'B' in ascending order and then by column 'A' in descendingorder.\n"
   ]
  },
  {
   "cell_type": "code",
   "execution_count": 47,
   "id": "e674f78e",
   "metadata": {},
   "outputs": [],
   "source": [
    "#20. Create a new column 'D' in the DataFrame which is the cumulative sum of column 'C\n"
   ]
  },
  {
   "cell_type": "code",
   "execution_count": null,
   "id": "dc3470f9",
   "metadata": {},
   "outputs": [],
   "source": []
  }
 ],
 "metadata": {
  "kernelspec": {
   "display_name": "Python 3 (ipykernel)",
   "language": "python",
   "name": "python3"
  },
  "language_info": {
   "codemirror_mode": {
    "name": "ipython",
    "version": 3
   },
   "file_extension": ".py",
   "mimetype": "text/x-python",
   "name": "python",
   "nbconvert_exporter": "python",
   "pygments_lexer": "ipython3",
   "version": "3.9.13"
  }
 },
 "nbformat": 4,
 "nbformat_minor": 5
}
