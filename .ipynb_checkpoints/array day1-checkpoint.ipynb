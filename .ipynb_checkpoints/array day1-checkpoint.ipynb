{
 "cells": [
  {
   "cell_type": "code",
   "execution_count": 27,
   "id": "d3635075",
   "metadata": {},
   "outputs": [],
   "source": [
    " import numpy as np"
   ]
  },
  {
   "cell_type": "code",
   "execution_count": 24,
   "id": "b2fb11da",
   "metadata": {},
   "outputs": [],
   "source": [
    "l1=[1,2,3,4] "
   ]
  },
  {
   "cell_type": "code",
   "execution_count": 25,
   "id": "5f01234a",
   "metadata": {},
   "outputs": [],
   "source": [
    "arry1=np.array(l1) "
   ]
  },
  {
   "cell_type": "code",
   "execution_count": 26,
   "id": "40d7a97d",
   "metadata": {},
   "outputs": [
    {
     "data": {
      "text/plain": [
       "array([1, 2, 3, 4])"
      ]
     },
     "execution_count": 26,
     "metadata": {},
     "output_type": "execute_result"
    }
   ],
   "source": [
    "arry1"
   ]
  },
  {
   "cell_type": "code",
   "execution_count": 28,
   "id": "64ef2dea",
   "metadata": {},
   "outputs": [
    {
     "data": {
      "text/plain": [
       "[11, 22, 33, 44]"
      ]
     },
     "execution_count": 28,
     "metadata": {},
     "output_type": "execute_result"
    }
   ],
   "source": [
    "l2=[11,22,33,44]\n",
    "l2"
   ]
  },
  {
   "cell_type": "code",
   "execution_count": 29,
   "id": "be2e8fbc",
   "metadata": {},
   "outputs": [
    {
     "data": {
      "text/plain": [
       "[[1, 2, 3, 4], [11, 22, 33, 44]]"
      ]
     },
     "execution_count": 29,
     "metadata": {},
     "output_type": "execute_result"
    }
   ],
   "source": [
    "l=[l1,l2]\n",
    "l"
   ]
  },
  {
   "cell_type": "code",
   "execution_count": 30,
   "id": "55053fd3",
   "metadata": {},
   "outputs": [],
   "source": [
    "array_2D=np.array(l)"
   ]
  },
  {
   "cell_type": "code",
   "execution_count": 31,
   "id": "c1914da9",
   "metadata": {},
   "outputs": [
    {
     "data": {
      "text/plain": [
       "array([[ 1,  2,  3,  4],\n",
       "       [11, 22, 33, 44]])"
      ]
     },
     "execution_count": 31,
     "metadata": {},
     "output_type": "execute_result"
    }
   ],
   "source": [
    "array_2D"
   ]
  },
  {
   "cell_type": "code",
   "execution_count": 32,
   "id": "0ff45e4a",
   "metadata": {},
   "outputs": [
    {
     "data": {
      "text/plain": [
       "(2, 4)"
      ]
     },
     "execution_count": 32,
     "metadata": {},
     "output_type": "execute_result"
    }
   ],
   "source": [
    "array_2D.shape "
   ]
  },
  {
   "cell_type": "code",
   "execution_count": 33,
   "id": "8cb2ebcc",
   "metadata": {},
   "outputs": [
    {
     "data": {
      "text/plain": [
       "dtype('int32')"
      ]
     },
     "execution_count": 33,
     "metadata": {},
     "output_type": "execute_result"
    }
   ],
   "source": [
    "array_2D.dtype "
   ]
  },
  {
   "cell_type": "code",
   "execution_count": 34,
   "id": "5075409f",
   "metadata": {},
   "outputs": [
    {
     "data": {
      "text/plain": [
       "array([0, 0, 0])"
      ]
     },
     "execution_count": 34,
     "metadata": {},
     "output_type": "execute_result"
    }
   ],
   "source": [
    "np.zeros(3,'int') "
   ]
  },
  {
   "cell_type": "code",
   "execution_count": 35,
   "id": "dd9be9e3",
   "metadata": {},
   "outputs": [
    {
     "data": {
      "text/plain": [
       "array([1., 1., 1.])"
      ]
     },
     "execution_count": 35,
     "metadata": {},
     "output_type": "execute_result"
    }
   ],
   "source": [
    "np.ones(3)"
   ]
  },
  {
   "cell_type": "code",
   "execution_count": 36,
   "id": "3a50a5bb",
   "metadata": {},
   "outputs": [
    {
     "data": {
      "text/plain": [
       "array([[1., 1., 1.],\n",
       "       [1., 1., 1.],\n",
       "       [1., 1., 1.]])"
      ]
     },
     "execution_count": 36,
     "metadata": {},
     "output_type": "execute_result"
    }
   ],
   "source": [
    "np.ones([3,3]) "
   ]
  },
  {
   "cell_type": "code",
   "execution_count": 45,
   "id": "920d99c7",
   "metadata": {},
   "outputs": [
    {
     "data": {
      "text/plain": [
       "array([1., 1., 1.])"
      ]
     },
     "execution_count": 45,
     "metadata": {},
     "output_type": "execute_result"
    }
   ],
   "source": [
    "np.ones(3)"
   ]
  },
  {
   "cell_type": "code",
   "execution_count": 46,
   "id": "4a9b494e",
   "metadata": {},
   "outputs": [
    {
     "data": {
      "text/plain": [
       "array([1., 1., 1.])"
      ]
     },
     "execution_count": 46,
     "metadata": {},
     "output_type": "execute_result"
    }
   ],
   "source": [
    "np.empty(3)"
   ]
  },
  {
   "cell_type": "code",
   "execution_count": 48,
   "id": "a4b23091",
   "metadata": {},
   "outputs": [
    {
     "data": {
      "text/plain": [
       "array([[1., 0., 0., 0.],\n",
       "       [0., 1., 0., 0.],\n",
       "       [0., 0., 1., 0.],\n",
       "       [0., 0., 0., 1.]])"
      ]
     },
     "execution_count": 48,
     "metadata": {},
     "output_type": "execute_result"
    }
   ],
   "source": [
    "np.eye(4)"
   ]
  },
  {
   "cell_type": "code",
   "execution_count": 51,
   "id": "f9d46192",
   "metadata": {},
   "outputs": [
    {
     "data": {
      "text/plain": [
       "array([0, 1, 2, 3, 4, 5, 6, 7, 8, 9])"
      ]
     },
     "execution_count": 51,
     "metadata": {},
     "output_type": "execute_result"
    }
   ],
   "source": [
    "np.arange(10)"
   ]
  },
  {
   "cell_type": "code",
   "execution_count": 50,
   "id": "ab4a1281",
   "metadata": {},
   "outputs": [
    {
     "data": {
      "text/plain": [
       "array([ 0,  2,  4,  6,  8, 10, 12, 14, 16, 18, 20, 22, 24, 26, 28, 30, 32,\n",
       "       34, 36, 38, 40, 42, 44, 46, 48])"
      ]
     },
     "execution_count": 50,
     "metadata": {},
     "output_type": "execute_result"
    }
   ],
   "source": [
    "np.arange(0,50,2)"
   ]
  },
  {
   "cell_type": "code",
   "execution_count": 53,
   "id": "f6ddd686",
   "metadata": {},
   "outputs": [
    {
     "data": {
      "text/plain": [
       "array([0, 1, 2, 3, 4, 5, 6, 7, 8, 9])"
      ]
     },
     "execution_count": 53,
     "metadata": {},
     "output_type": "execute_result"
    }
   ],
   "source": [
    "#Numpy(Creating Array)\n",
    "#1 create 1D numpy array with integers feom 10 to 9\n",
    "np.arange(0,10,1)"
   ]
  },
  {
   "cell_type": "code",
   "execution_count": 54,
   "id": "6dc54bd6",
   "metadata": {},
   "outputs": [
    {
     "data": {
      "text/plain": [
       "array([[0., 0., 0.],\n",
       "       [0., 0., 0.],\n",
       "       [0., 0., 0.]])"
      ]
     },
     "execution_count": 54,
     "metadata": {},
     "output_type": "execute_result"
    }
   ],
   "source": [
    "#2 create 2D numpy array with shape (3,3) and full it with zeros\n",
    "np.zeros([3,3])"
   ]
  },
  {
   "cell_type": "code",
   "execution_count": 56,
   "id": "ff0de870",
   "metadata": {},
   "outputs": [
    {
     "data": {
      "text/plain": [
       "array([[[1., 1., 1., 1.],\n",
       "        [1., 1., 1., 1.],\n",
       "        [1., 1., 1., 1.]],\n",
       "\n",
       "       [[1., 1., 1., 1.],\n",
       "        [1., 1., 1., 1.],\n",
       "        [1., 1., 1., 1.]]])"
      ]
     },
     "execution_count": 56,
     "metadata": {},
     "output_type": "execute_result"
    }
   ],
   "source": [
    "#3 create 3D numpy array with shape (2,3,4) and full it with ones\n",
    "np.ones([2,3,4])"
   ]
  },
  {
   "cell_type": "code",
   "execution_count": 59,
   "id": "c5bf84cf",
   "metadata": {},
   "outputs": [
    {
     "data": {
      "text/plain": [
       "array([59, 94, 83, 95,  5, 10, 28, 64, 28, 17])"
      ]
     },
     "execution_count": 59,
     "metadata": {},
     "output_type": "execute_result"
    }
   ],
   "source": [
    "#4 create numpy array with 10 random integers between 1 to 100\n",
    "np.random.randint(low=1, high=100, size=10)"
   ]
  },
  {
   "cell_type": "code",
   "execution_count": 73,
   "id": "525af95b",
   "metadata": {},
   "outputs": [
    {
     "data": {
      "text/plain": [
       "array([0.30233744, 0.46856442, 0.89999209, 0.1483753 , 0.91372156,\n",
       "       0.97941233, 0.56533627, 0.00240605, 0.84128644, 0.74799339])"
      ]
     },
     "execution_count": 73,
     "metadata": {},
     "output_type": "execute_result"
    }
   ],
   "source": [
    "#5 create numpy array with 10 random float between 0 to 1\n",
    "np.random.uniform(low=0, high=1, size=10)"
   ]
  },
  {
   "cell_type": "code",
   "execution_count": 75,
   "id": "eca4fea8",
   "metadata": {},
   "outputs": [
    {
     "data": {
      "text/plain": [
       "array([0. , 0.1, 0.2, 0.3, 0.4])"
      ]
     },
     "execution_count": 75,
     "metadata": {},
     "output_type": "execute_result"
    }
   ],
   "source": [
    "#6 create numpy array with 5 equally spcaced between 0 to 1\n",
    "np.arange(0, 0.5, 0.1)"
   ]
  },
  {
   "cell_type": "code",
   "execution_count": 77,
   "id": "0c702195",
   "metadata": {},
   "outputs": [
    {
     "data": {
      "text/plain": [
       "array([0, 1, 2, 3, 4])"
      ]
     },
     "execution_count": 77,
     "metadata": {},
     "output_type": "execute_result"
    }
   ],
   "source": [
    "#7 create numpy array with 5 equally spcaced between 0 to 10\n",
    "np.arange(0, 5, 1)"
   ]
  },
  {
   "cell_type": "code",
   "execution_count": 80,
   "id": "224c6b08",
   "metadata": {},
   "outputs": [
    {
     "data": {
      "text/plain": [
       "array([-1. , -0.7, -0.4, -0.1,  0.2])"
      ]
     },
     "execution_count": 80,
     "metadata": {},
     "output_type": "execute_result"
    }
   ],
   "source": [
    "#8 create numpy array with 5 equally spcaced between -1 to 1\n",
    "np.arange(-1, 0.5, 0.3)"
   ]
  },
  {
   "cell_type": "code",
   "execution_count": 83,
   "id": "643dc994",
   "metadata": {},
   "outputs": [
    {
     "data": {
      "text/plain": [
       "-2.4492935982947064e-16"
      ]
     },
     "execution_count": 83,
     "metadata": {},
     "output_type": "execute_result"
    }
   ],
   "source": [
    "#9 create numpy array with sine values of angles between 0 to 2pi\n",
    "np.sin(np.pi*2)"
   ]
  },
  {
   "cell_type": "code",
   "execution_count": null,
   "id": "a6cb97e6",
   "metadata": {},
   "outputs": [],
   "source": [
    "#10 create numpy array with cosine values of angles between 0 to pi"
   ]
  },
  {
   "cell_type": "code",
   "execution_count": 86,
   "id": "02c75c1f",
   "metadata": {},
   "outputs": [
    {
     "data": {
      "text/plain": [
       "array([[ 2, 16],\n",
       "       [ 8, 10]])"
      ]
     },
     "execution_count": 86,
     "metadata": {},
     "output_type": "execute_result"
    }
   ],
   "source": [
    "#Numpy (Creating Array\n",
    "# create 2x2 numpy array and multiply by 2\n",
    "num=np.array([[1,8],[4,5]])\n",
    "num\n",
    "num*2"
   ]
  },
  {
   "cell_type": "code",
   "execution_count": 87,
   "id": "ee0d485e",
   "metadata": {},
   "outputs": [
    {
     "data": {
      "text/plain": [
       "array([[ 6, 13,  7],\n",
       "       [ 9, 10, 13],\n",
       "       [14, 13, 12]])"
      ]
     },
     "execution_count": 87,
     "metadata": {},
     "output_type": "execute_result"
    }
   ],
   "source": [
    "# create 3x3 numpy array and add 5\n",
    "num1=np.array([[1,8,2],[4,5,8],[9,8,7]])\n",
    "num1+5"
   ]
  },
  {
   "cell_type": "code",
   "execution_count": 95,
   "id": "2d8a652e",
   "metadata": {},
   "outputs": [
    {
     "data": {
      "text/plain": [
       "array([[-9, -2, -8, -5],\n",
       "       [-6, -5, -2, -3],\n",
       "       [-1, -2, -3, -9],\n",
       "       [-5, -2, -3, -9]])"
      ]
     },
     "execution_count": 95,
     "metadata": {},
     "output_type": "execute_result"
    }
   ],
   "source": [
    "# create 4x4 numpy array and sub 10\n",
    "num2=np.array([[1,8,2,5],[4,5,8,7],[9,8,7,1],[5,8,7,1]])\n",
    "num2-10"
   ]
  },
  {
   "cell_type": "code",
   "execution_count": 94,
   "id": "cc620366",
   "metadata": {},
   "outputs": [
    {
     "data": {
      "text/plain": [
       "array([[ 0.5,  4. ,  1. ,  2.5],\n",
       "       [ 2. ,  2.5,  4. ,  3.5],\n",
       "       [ 4.5,  4. ,  3.5,  0.5],\n",
       "       [ 2.5,  4. ,  3.5,  0.5],\n",
       "       [ 2.5, 44. , 28.5,  0.5]])"
      ]
     },
     "execution_count": 94,
     "metadata": {},
     "output_type": "execute_result"
    }
   ],
   "source": [
    "# create 5x5 numpy array and divide 2\n",
    "num3=np.array([[1,8,2,5],[4,5,8,7],[9,8,7,1],[5,8,7,1],[5,88,57,1]])\n",
    "num3/2"
   ]
  },
  {
   "cell_type": "code",
   "execution_count": 96,
   "id": "6f1cf5a4",
   "metadata": {},
   "outputs": [
    {
     "data": {
      "text/plain": [
       "array([[1.        , 2.82842712, 1.41421356, 2.23606798],\n",
       "       [2.        , 2.23606798, 2.82842712, 2.64575131],\n",
       "       [3.        , 2.82842712, 2.64575131, 1.        ],\n",
       "       [2.23606798, 3.        , 3.16227766, 1.        ],\n",
       "       [3.87298335, 5.29150262, 6.8556546 , 4.24264069]])"
      ]
     },
     "execution_count": 96,
     "metadata": {},
     "output_type": "execute_result"
    }
   ],
   "source": [
    "# create 6x6 numpy array and calculate square root\n",
    "num4=np.array([[1,8,2,5],[4,5,8,7],[9,8,7,1],[5,9,10,1],[15,28,47,18]])\n",
    "p=np.sqrt(num4)\n",
    "p"
   ]
  },
  {
   "cell_type": "code",
   "execution_count": 97,
   "id": "19efe3d8",
   "metadata": {},
   "outputs": [
    {
     "data": {
      "text/plain": [
       "array([[26, 50],\n",
       "       [23, 65]])"
      ]
     },
     "execution_count": 97,
     "metadata": {},
     "output_type": "execute_result"
    }
   ],
   "source": [
    "# create 2x2 numpy array and calculate their product using the np.matmul()\n",
    "a=np.array([[1,8],[4,5]])\n",
    "b=np.array([[2,10],[3,5]])\n",
    "c=np.matmul(a,b)\n",
    "c"
   ]
  },
  {
   "cell_type": "code",
   "execution_count": 101,
   "id": "6f26ae01",
   "metadata": {},
   "outputs": [
    {
     "data": {
      "text/plain": [
       "array([[ 88,  46, 110],\n",
       "       [ 83,  49, 114],\n",
       "       [ 43,  28,  89]])"
      ]
     },
     "execution_count": 101,
     "metadata": {},
     "output_type": "execute_result"
    }
   ],
   "source": [
    "# create 3x3 numpy array and calculate their product using the np.dot()\n",
    "a=np.array([[1,8,4],[2,5,6],[4,5,1]])\n",
    "b=np.array([[0,2,10],[7,3,8],[8,5,9]])\n",
    "do=np.dot(a,b)\n",
    "do"
   ]
  },
  {
   "cell_type": "code",
   "execution_count": 104,
   "id": "f369c19b",
   "metadata": {},
   "outputs": [
    {
     "data": {
      "text/plain": [
       "array([0, 1, 2, 3, 4])"
      ]
     },
     "execution_count": 104,
     "metadata": {},
     "output_type": "execute_result"
    }
   ],
   "source": [
    "#Lec03- Indexing Arrays\n",
    "arr=np.arange(0,11)\n",
    "arr[1]\n",
    "arr[0:5]"
   ]
  },
  {
   "cell_type": "code",
   "execution_count": 112,
   "id": "efdb3eff",
   "metadata": {},
   "outputs": [
    {
     "data": {
      "text/plain": [
       "3"
      ]
     },
     "execution_count": 112,
     "metadata": {},
     "output_type": "execute_result"
    }
   ],
   "source": [
    "#1Create a 1D NumPy array with the integers from 0 to 9.\n",
    "#Extract the 3rd element from the array.\n",
    "n=np.arange(0,10,1)\n",
    "n\n",
    "n[3]\n"
   ]
  },
  {
   "cell_type": "code",
   "execution_count": 134,
   "id": "aa87fd44",
   "metadata": {},
   "outputs": [
    {
     "data": {
      "text/plain": [
       "array([[0.61125475, 0.95032159, 0.9507863 ],\n",
       "       [0.0785329 , 0.02583427, 0.13462382],\n",
       "       [0.15774165, 0.54588136, 0.2620035 ]])"
      ]
     },
     "execution_count": 134,
     "metadata": {},
     "output_type": "execute_result"
    }
   ],
   "source": [
    "#2Create a 2D NumPy array with shape (3, 3) and fill it with random numbers.\n",
    "#Extract the element at row 2, column 1.\n",
    "x=np.random.rand(3,3)\n",
    "x\n"
   ]
  },
  {
   "cell_type": "code",
   "execution_count": 135,
   "id": "9099ec45",
   "metadata": {},
   "outputs": [
    {
     "data": {
      "text/plain": [
       "array([[0.41145034, 0.51928029, 0.2427457 , 0.56881532],\n",
       "       [0.92367591, 0.52773284, 0.66980008, 0.17092904],\n",
       "       [0.94337367, 0.37647875, 0.35390771, 0.67723777],\n",
       "       [0.54961806, 0.18999113, 0.8219848 , 0.97199177]])"
      ]
     },
     "execution_count": 135,
     "metadata": {},
     "output_type": "execute_result"
    }
   ],
   "source": [
    "#3Create a 2D NumPy array with shape (4, 4) and fill it with random numbers.\n",
    "#Extract the subarray\n",
    "y=np.random.rand(4,4)\n",
    "y\n"
   ]
  },
  {
   "cell_type": "code",
   "execution_count": 139,
   "id": "8831476c",
   "metadata": {},
   "outputs": [
    {
     "data": {
      "text/plain": [
       "array([0, 1, 2])"
      ]
     },
     "execution_count": 139,
     "metadata": {},
     "output_type": "execute_result"
    }
   ],
   "source": [
    "#4Create a 1D NumPy array with the integers from 0 to 9.\n",
    "#Copy a slice of the array consisting of the first 3 elements.\n",
    "arr=np.arange(0,9)\n",
    "arr[0:3]\n"
   ]
  },
  {
   "cell_type": "code",
   "execution_count": 144,
   "id": "97dbcfe3",
   "metadata": {},
   "outputs": [
    {
     "data": {
      "text/plain": [
       "array([[0.61125475, 0.95032159],\n",
       "       [0.0785329 , 0.02583427]])"
      ]
     },
     "execution_count": 144,
     "metadata": {},
     "output_type": "execute_result"
    }
   ],
   "source": [
    "#5Create a 2D NumPy array with shape (3, 3) and fill it with random numbers.\n",
    "#Copy a slice of the array consisting of the first 2 rows and the first 2 columns.\n",
    "x[:2,:2]\n"
   ]
  },
  {
   "cell_type": "code",
   "execution_count": 147,
   "id": "a1766d3c",
   "metadata": {},
   "outputs": [
    {
     "data": {
      "text/plain": [
       "array([[0, 1, 2],\n",
       "       [3, 4, 5],\n",
       "       [6, 7, 8]])"
      ]
     },
     "execution_count": 147,
     "metadata": {},
     "output_type": "execute_result"
    }
   ],
   "source": [
    "#6Create a 1D NumPy array with the integers from 0 to 9.\n",
    "#Reshape the array into a 2D array with shape (3, 3).\n",
    "w=np.arange(0, 9).reshape((3,3))"
   ]
  },
  {
   "cell_type": "code",
   "execution_count": 154,
   "id": "e3b5765a",
   "metadata": {},
   "outputs": [
    {
     "ename": "NameError",
     "evalue": "name 'w' is not defined",
     "output_type": "error",
     "traceback": [
      "\u001b[1;31m---------------------------------------------------------------------------\u001b[0m",
      "\u001b[1;31mNameError\u001b[0m                                 Traceback (most recent call last)",
      "\u001b[1;32m~\\AppData\\Local\\Temp\\ipykernel_7520\\1885666469.py\u001b[0m in \u001b[0;36m<module>\u001b[1;34m\u001b[0m\n\u001b[0;32m      1\u001b[0m \u001b[1;31m#Create a 2D NumPy array with shape (4, 4) and fill it with random numbers.\u001b[0m\u001b[1;33m\u001b[0m\u001b[1;33m\u001b[0m\u001b[0m\n\u001b[0;32m      2\u001b[0m \u001b[1;31m#Reshape the array into a 1D array\u001b[0m\u001b[1;33m\u001b[0m\u001b[1;33m\u001b[0m\u001b[0m\n\u001b[1;32m----> 3\u001b[1;33m \u001b[0mleft\u001b[0m\u001b[1;33m=\u001b[0m \u001b[0mnp\u001b[0m\u001b[1;33m.\u001b[0m\u001b[0mhsplit\u001b[0m\u001b[1;33m(\u001b[0m\u001b[0mw\u001b[0m\u001b[1;33m,\u001b[0m \u001b[1;33m[\u001b[0m\u001b[1;36m2\u001b[0m\u001b[1;33m]\u001b[0m\u001b[1;33m)\u001b[0m\u001b[1;33m\u001b[0m\u001b[1;33m\u001b[0m\u001b[0m\n\u001b[0m\u001b[0;32m      4\u001b[0m \u001b[0mleft\u001b[0m\u001b[1;33m\u001b[0m\u001b[1;33m\u001b[0m\u001b[0m\n",
      "\u001b[1;31mNameError\u001b[0m: name 'w' is not defined"
     ]
    }
   ],
   "source": [
    "#7Create a 2D NumPy array with shape (4, 4) and fill it with random numbers.\n",
    "#Reshape the array into a 1D array\n",
    "left= np.hsplit(w, [2])\n",
    "left"
   ]
  },
  {
   "cell_type": "code",
   "execution_count": 158,
   "id": "9d3ac130",
   "metadata": {},
   "outputs": [
    {
     "data": {
      "text/plain": [
       "array([[-1.37805705, -1.15985115,  1.58692525, -0.66638715,  0.58932602],\n",
       "       [ 0.70449941,  0.78405438, -0.79272229, -0.83321729, -0.1877876 ],\n",
       "       [ 0.08961848, -1.66586209,  0.73841022,  1.35516874,  1.15976562],\n",
       "       [ 1.355598  ,  1.46625326, -3.22536495, -0.63073265,  0.52749783],\n",
       "       [ 0.28812931, -0.22492536, -1.03755029, -0.60511526, -0.71024675]])"
      ]
     },
     "execution_count": 158,
     "metadata": {},
     "output_type": "execute_result"
    }
   ],
   "source": [
    "import numpy as np\n",
    "from numpy.random import randn\n",
    "arr = randn(5,5)\n",
    "arr\n"
   ]
  },
  {
   "cell_type": "code",
   "execution_count": 159,
   "id": "9ac1e789",
   "metadata": {},
   "outputs": [
    {
     "data": {
      "text/plain": [
       "array([[-0.06708557,  0.26022328,  4.38038787,  1.00041927,  2.88398903],\n",
       "       [ 3.05674911,  3.17608156,  0.81091657,  0.75017406,  1.7183186 ],\n",
       "       [ 2.13442772, -0.49879313,  3.10761533,  4.0327531 ,  3.73964843],\n",
       "       [ 4.03339699,  4.19937989, -2.83804743,  1.05390102,  2.79124675],\n",
       "       [ 2.43219397,  1.66261197,  0.44367457,  1.09232711,  0.93462987]])"
      ]
     },
     "execution_count": 159,
     "metadata": {},
     "output_type": "execute_result"
    }
   ],
   "source": [
    "2+1.5*(arr)"
   ]
  },
  {
   "cell_type": "code",
   "execution_count": 161,
   "id": "90ae19ec",
   "metadata": {},
   "outputs": [
    {
     "data": {
      "text/plain": [
       "array([-8, -2,  0,  4,  5])"
      ]
     },
     "execution_count": 161,
     "metadata": {},
     "output_type": "execute_result"
    }
   ],
   "source": [
    "A=np.array([-2,5,4,-8,0])\n",
    "np.sort(A)"
   ]
  },
  {
   "cell_type": "code",
   "execution_count": 169,
   "id": "2194358d",
   "metadata": {},
   "outputs": [
    {
     "data": {
      "text/plain": [
       "array([ 8,  2,  0, -4, -5])"
      ]
     },
     "execution_count": 169,
     "metadata": {},
     "output_type": "execute_result"
    }
   ],
   "source": [
    "-np.sort(A)"
   ]
  },
  {
   "cell_type": "code",
   "execution_count": 168,
   "id": "bb92a772",
   "metadata": {},
   "outputs": [
    {
     "data": {
      "text/plain": [
       "array([-5, -4,  0,  2,  8])"
      ]
     },
     "execution_count": 168,
     "metadata": {},
     "output_type": "execute_result"
    }
   ],
   "source": [
    "np.sort(-A)"
   ]
  },
  {
   "cell_type": "code",
   "execution_count": null,
   "id": "fa6efb48",
   "metadata": {},
   "outputs": [],
   "source": []
  },
  {
   "cell_type": "code",
   "execution_count": null,
   "id": "1b4ddb74",
   "metadata": {},
   "outputs": [],
   "source": []
  }
 ],
 "metadata": {
  "kernelspec": {
   "display_name": "Python 3 (ipykernel)",
   "language": "python",
   "name": "python3"
  },
  "language_info": {
   "codemirror_mode": {
    "name": "ipython",
    "version": 3
   },
   "file_extension": ".py",
   "mimetype": "text/x-python",
   "name": "python",
   "nbconvert_exporter": "python",
   "pygments_lexer": "ipython3",
   "version": "3.9.13"
  }
 },
 "nbformat": 4,
 "nbformat_minor": 5
}
