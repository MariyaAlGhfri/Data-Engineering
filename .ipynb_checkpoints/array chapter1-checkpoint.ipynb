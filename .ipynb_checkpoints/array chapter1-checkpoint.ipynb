{
 "cells": [
  {
   "cell_type": "code",
   "execution_count": 1,
   "id": "215508bb",
   "metadata": {},
   "outputs": [],
   "source": [
    "import numpy as np"
   ]
  },
  {
   "cell_type": "code",
   "execution_count": 59,
   "id": "80a3485f",
   "metadata": {},
   "outputs": [
    {
     "data": {
      "text/plain": [
       "array([[1.91016226, 1.04092712, 2.04926361],\n",
       "       [1.88375395, 1.30671276, 2.11164085],\n",
       "       [1.93685748, 1.77321699, 1.83600193]])"
      ]
     },
     "execution_count": 59,
     "metadata": {},
     "output_type": "execute_result"
    }
   ],
   "source": [
    "#Numpy (Universal Array Function)\n",
    "\n",
    "#1 Create a NumPy array with shape (3,3) and fill it with random numbers.Use the\n",
    "#np.exp()function to compute the exponential of each element in the array.\n",
    "oi=np.random.rand(3,3)\n",
    "np.exp(oi)\n"
   ]
  },
  {
   "cell_type": "code",
   "execution_count": 61,
   "id": "bbd846c9",
   "metadata": {},
   "outputs": [
    {
     "data": {
      "text/plain": [
       "array([[0.06635404, 0.08900617, 0.31752554, 0.64359398],\n",
       "       [0.11558664, 0.39693839, 0.01137396, 0.58171831],\n",
       "       [0.01080762, 0.66623858, 0.36264978, 0.05127671],\n",
       "       [0.21730152, 0.64046377, 0.09341631, 0.51951004]])"
      ]
     },
     "execution_count": 61,
     "metadata": {},
     "output_type": "execute_result"
    }
   ],
   "source": [
    "#2 Create a NumPy array with shape (4,4) and fill it with random numbers.\n",
    "#Use the np.sin() function to compute the sine of each element in the array.\n",
    "oa=np.random.rand(4,4)\n",
    "np.sin(oa)"
   ]
  },
  {
   "cell_type": "code",
   "execution_count": 62,
   "id": "f01319c4",
   "metadata": {},
   "outputs": [
    {
     "data": {
      "text/plain": [
       "array([[-1.0366649 , -0.81833663, -0.3664729 , -0.88816328, -0.70000328],\n",
       "       [-3.54082331, -0.59562196, -0.83631864, -0.59798017, -2.13836161],\n",
       "       [-0.20412593, -0.91814067, -0.64519001, -0.55987941, -1.14725906],\n",
       "       [-1.58634542, -0.99824529, -1.33984137, -0.20915119, -0.25954573],\n",
       "       [-1.2614365 , -0.06630061, -1.4497396 , -0.38069979, -1.23453199]])"
      ]
     },
     "execution_count": 62,
     "metadata": {},
     "output_type": "execute_result"
    }
   ],
   "source": [
    "#3 Create a NumPy array with shape (5,5) and fill it with random numbers.\n",
    "#Use the np.log() function to compute the natural logarithm of each element in the array.\n",
    "ob=np.random.rand(5,5)\n",
    "np.log(ob)"
   ]
  },
  {
   "cell_type": "code",
   "execution_count": 64,
   "id": "e675352e",
   "metadata": {},
   "outputs": [
    {
     "data": {
      "text/plain": [
       "array([[-0.05460688, -0.04579066],\n",
       "       [-0.05709678, -0.17815564]])"
      ]
     },
     "execution_count": 64,
     "metadata": {},
     "output_type": "execute_result"
    }
   ],
   "source": [
    "#4 Create a NumPy array with shape (2,2) and fill it with random numbers.\n",
    "#Use the np.sqrt() function to compute the square root of each element in the array.\n",
    "oc=np.random.rand(2,2)\n",
    "np.log(oc)"
   ]
  },
  {
   "cell_type": "code",
   "execution_count": 65,
   "id": "ebba96e6",
   "metadata": {},
   "outputs": [
    {
     "data": {
      "text/plain": [
       "array([[0., 0., 0., 0., 0., 0.],\n",
       "       [0., 0., 0., 0., 0., 0.],\n",
       "       [0., 0., 0., 0., 0., 0.],\n",
       "       [0., 0., 0., 0., 0., 0.],\n",
       "       [0., 0., 0., 0., 0., 0.],\n",
       "       [0., 0., 0., 0., 0., 0.]])"
      ]
     },
     "execution_count": 65,
     "metadata": {},
     "output_type": "execute_result"
    }
   ],
   "source": [
    "#5 Create a NumPy array with shape (6,6) and fill it with random numbers.\n",
    "#Use the np.floor() function to round down each element in the array to the nearest integer.\n",
    "od=np.random.rand(6,6)\n",
    "np.floor(od)"
   ]
  },
  {
   "cell_type": "code",
   "execution_count": 67,
   "id": "83d97055",
   "metadata": {},
   "outputs": [
    {
     "data": {
      "text/plain": [
       "array([[0.40489591, 0.46526204, 0.89309525, 0.29495902, 0.43072398,\n",
       "        0.13195713],\n",
       "       [0.8688289 , 0.68100564, 0.88715218, 0.22791548, 0.68058746,\n",
       "        0.43266884],\n",
       "       [0.49106356, 0.57793959, 0.67719358, 0.13814842, 0.03660726,\n",
       "        0.07508366],\n",
       "       [0.6331329 , 0.67407307, 0.27047946, 0.62511753, 0.35185665,\n",
       "        0.989759  ],\n",
       "       [0.42604843, 0.50737555, 0.72355766, 0.91623628, 0.21390317,\n",
       "        0.30330372],\n",
       "       [0.88658688, 0.74627299, 0.50639848, 0.1794337 , 0.99169444,\n",
       "        0.13536015]])"
      ]
     },
     "execution_count": 67,
     "metadata": {},
     "output_type": "execute_result"
    }
   ],
   "source": [
    "#6 Create a NumPy array with shape (3,3) and fill it with random numbers.\n",
    "#Use the np.abs() function to compute the absolute value of each element in the array.\n",
    "oe=np.random.rand(6,6)\n",
    "np.abs(oe)"
   ]
  },
  {
   "cell_type": "code",
   "execution_count": 70,
   "id": "7b4bd175",
   "metadata": {},
   "outputs": [
    {
     "data": {
      "text/plain": [
       "array([[1.60546389e-01, 3.80248247e-01, 8.91428010e-02, 3.38243826e-01],\n",
       "       [5.28687212e-02, 2.87590046e-01, 9.57230100e-01, 1.68762782e-01],\n",
       "       [1.27310246e-04, 8.02635578e-03, 1.41877854e-02, 1.21022711e-02],\n",
       "       [1.88525303e-01, 7.19108407e-01, 3.65809074e-01, 3.73328466e-01]])"
      ]
     },
     "execution_count": 70,
     "metadata": {},
     "output_type": "execute_result"
    }
   ],
   "source": [
    "#7 Create a NumPy array with shape (4,4) and fill it with random numbers.\n",
    "#Use the np.power() function to raise each element in the array to the power of 2.\n",
    "of=np.random.rand(4,4)\n",
    "np.power(of,2)"
   ]
  },
  {
   "cell_type": "code",
   "execution_count": 74,
   "id": "61c86561",
   "metadata": {},
   "outputs": [
    {
     "data": {
      "text/plain": [
       "2"
      ]
     },
     "execution_count": 74,
     "metadata": {},
     "output_type": "execute_result"
    }
   ],
   "source": [
    "#8 Create a NumPy array with 5 random integers between 1 and 10.\n",
    "#Use the maximum function to find the largest element in the array.\n",
    "t=np.random.randint(low=0, high=5, size=5)\n",
    "np.max(t)\n",
    "\n"
   ]
  },
  {
   "cell_type": "code",
   "execution_count": 83,
   "id": "f01ffff3",
   "metadata": {},
   "outputs": [
    {
     "data": {
      "text/plain": [
       "array([1., 1., 0., 0., 1., 0., 1., 1., 1., 0.])"
      ]
     },
     "execution_count": 83,
     "metadata": {},
     "output_type": "execute_result"
    }
   ],
   "source": [
    "#9 Create a NumPy array with 10 random floating-point numbers between 0 and 1.\n",
    "#Use the round function to round each element to the nearest integer.\n",
    "ta=np.random.uniform(low=0, high=1, size=10)\n",
    "np.round(ta)"
   ]
  },
  {
   "cell_type": "code",
   "execution_count": 84,
   "id": "46fd025d",
   "metadata": {},
   "outputs": [
    {
     "data": {
      "text/plain": [
       "1"
      ]
     },
     "execution_count": 84,
     "metadata": {},
     "output_type": "execute_result"
    }
   ],
   "source": [
    "#10 Create a NumPy array with 7 random integers between 1 and 100. Use the argmax \n",
    "#function find the index of the largest element in the array.\n",
    "tb=np.random.randint(low=1, high=100, size=7)\n",
    "np.argmax(tb)"
   ]
  },
  {
   "cell_type": "code",
   "execution_count": 85,
   "id": "f3ecbbe9",
   "metadata": {},
   "outputs": [
    {
     "data": {
      "text/plain": [
       "array([[0.80716643, 0.55928271, 0.74019752],\n",
       "       [1.7799992 , 0.76240615, 1.48075765],\n",
       "       [0.65457254, 0.78240493, 0.41681152]])"
      ]
     },
     "execution_count": 85,
     "metadata": {},
     "output_type": "execute_result"
    }
   ],
   "source": [
    "#11 Create two NumPy arrays with the same shape, each filled with random\n",
    "#integers between 1 and 10. Use the add function to add the two arrays together element-wise.\n",
    "xi=np.random.rand(3,3)\n",
    "xb=np.random.rand(3,3)\n",
    "np.add(xi,xb)\n"
   ]
  },
  {
   "cell_type": "code",
   "execution_count": 86,
   "id": "46f78b1b",
   "metadata": {},
   "outputs": [
    {
     "ename": "TypeError",
     "evalue": "_clip_dispatcher() missing 2 required positional arguments: 'a_min' and 'a_max'",
     "output_type": "error",
     "traceback": [
      "\u001b[1;31m---------------------------------------------------------------------------\u001b[0m",
      "\u001b[1;31mTypeError\u001b[0m                                 Traceback (most recent call last)",
      "\u001b[1;32m~\\AppData\\Local\\Temp\\ipykernel_6284\\3613216545.py\u001b[0m in \u001b[0;36m<module>\u001b[1;34m\u001b[0m\n\u001b[0;32m      3\u001b[0m \u001b[1;31m#between 10 and 90.\u001b[0m\u001b[1;33m\u001b[0m\u001b[1;33m\u001b[0m\u001b[0m\n\u001b[0;32m      4\u001b[0m \u001b[0mto\u001b[0m\u001b[1;33m=\u001b[0m\u001b[0mnp\u001b[0m\u001b[1;33m.\u001b[0m\u001b[0mrandom\u001b[0m\u001b[1;33m.\u001b[0m\u001b[0mrandint\u001b[0m\u001b[1;33m(\u001b[0m\u001b[0mlow\u001b[0m\u001b[1;33m=\u001b[0m\u001b[1;36m0\u001b[0m\u001b[1;33m,\u001b[0m \u001b[0mhigh\u001b[0m\u001b[1;33m=\u001b[0m\u001b[1;36m100\u001b[0m\u001b[1;33m,\u001b[0m \u001b[0msize\u001b[0m\u001b[1;33m=\u001b[0m\u001b[1;36m12\u001b[0m\u001b[1;33m)\u001b[0m\u001b[1;33m\u001b[0m\u001b[1;33m\u001b[0m\u001b[0m\n\u001b[1;32m----> 5\u001b[1;33m \u001b[0mnp\u001b[0m\u001b[1;33m.\u001b[0m\u001b[0mclip\u001b[0m\u001b[1;33m(\u001b[0m\u001b[0mto\u001b[0m\u001b[1;33m)\u001b[0m\u001b[1;33m\u001b[0m\u001b[1;33m\u001b[0m\u001b[0m\n\u001b[0m",
      "\u001b[1;32m<__array_function__ internals>\u001b[0m in \u001b[0;36mclip\u001b[1;34m(*args, **kwargs)\u001b[0m\n",
      "\u001b[1;31mTypeError\u001b[0m: _clip_dispatcher() missing 2 required positional arguments: 'a_min' and 'a_max'"
     ]
    }
   ],
   "source": [
    "#12 Create a NumPy array with 12 random integers between 0 and 100. \n",
    "#Use the clip function to limit the values in the array to a range\n",
    "#between 10 and 90.\n",
    "to=np.random.randint(low=0, high=100, size=12)\n",
    "np.clip(to)"
   ]
  },
  {
   "cell_type": "code",
   "execution_count": null,
   "id": "d7b0bbb8",
   "metadata": {},
   "outputs": [],
   "source": []
  },
  {
   "cell_type": "code",
   "execution_count": 2,
   "id": "80395553",
   "metadata": {},
   "outputs": [
    {
     "data": {
      "text/plain": [
       "array([ 0,  1,  2,  3,  4,  5,  6,  7,  8,  9, 10])"
      ]
     },
     "execution_count": 2,
     "metadata": {},
     "output_type": "execute_result"
    }
   ],
   "source": [
    "arr = np.arange(11)\n",
    "arr"
   ]
  },
  {
   "cell_type": "code",
   "execution_count": 3,
   "id": "38d16b0b",
   "metadata": {},
   "outputs": [
    {
     "data": {
      "text/plain": [
       "array([0.        , 1.        , 1.41421356, 1.73205081, 2.        ,\n",
       "       2.23606798, 2.44948974, 2.64575131, 2.82842712, 3.        ,\n",
       "       3.16227766])"
      ]
     },
     "execution_count": 3,
     "metadata": {},
     "output_type": "execute_result"
    }
   ],
   "source": [
    "np.sqrt(arr)"
   ]
  },
  {
   "cell_type": "code",
   "execution_count": 4,
   "id": "2d8b77a9",
   "metadata": {},
   "outputs": [
    {
     "data": {
      "text/plain": [
       "array([1.00000000e+00, 2.71828183e+00, 7.38905610e+00, 2.00855369e+01,\n",
       "       5.45981500e+01, 1.48413159e+02, 4.03428793e+02, 1.09663316e+03,\n",
       "       2.98095799e+03, 8.10308393e+03, 2.20264658e+04])"
      ]
     },
     "execution_count": 4,
     "metadata": {},
     "output_type": "execute_result"
    }
   ],
   "source": [
    "np.exp(arr)"
   ]
  },
  {
   "cell_type": "code",
   "execution_count": 10,
   "id": "7f6ae3c2",
   "metadata": {},
   "outputs": [
    {
     "data": {
      "text/plain": [
       "array([-0.63598653, -0.32019567, -0.48305648,  2.05793192,  1.60569242])"
      ]
     },
     "execution_count": 10,
     "metadata": {},
     "output_type": "execute_result"
    }
   ],
   "source": [
    "np.random.randn(5)"
   ]
  },
  {
   "cell_type": "code",
   "execution_count": 24,
   "id": "6f7aa0cd",
   "metadata": {},
   "outputs": [
    {
     "name": "stdout",
     "output_type": "stream",
     "text": [
      "[90 25 29 70 24 60 23 74 94 32 72 24 72 90 70 66 58 55 38 13]\n",
      "[5 9 7 5 8 5 9 9 5 5 8 8 5 7 6 6 6 7 5 6]\n"
     ]
    }
   ],
   "source": [
    "A=np.random.randint(5,100,20)\n",
    "B=np.random.randint(5,10,20)\n",
    "print(A)\n",
    "print(B)"
   ]
  },
  {
   "cell_type": "code",
   "execution_count": 25,
   "id": "6453b1c3",
   "metadata": {},
   "outputs": [
    {
     "data": {
      "text/plain": [
       "array([90, 25, 29, 70, 24, 60, 23, 74, 94, 32, 72, 24, 72, 90, 70, 66, 58,\n",
       "       55, 38, 13])"
      ]
     },
     "execution_count": 25,
     "metadata": {},
     "output_type": "execute_result"
    }
   ],
   "source": [
    "np.maximum(A,B)"
   ]
  },
  {
   "cell_type": "code",
   "execution_count": 26,
   "id": "23779ed0",
   "metadata": {},
   "outputs": [],
   "source": [
    "from numpy.random import randn"
   ]
  },
  {
   "cell_type": "code",
   "execution_count": 29,
   "id": "7c7f75f7",
   "metadata": {},
   "outputs": [
    {
     "data": {
      "text/plain": [
       "array([  1,   2, 300, 400])"
      ]
     },
     "execution_count": 29,
     "metadata": {},
     "output_type": "execute_result"
    }
   ],
   "source": [
    "Q=np.array([1,2,3,4])\n",
    "E=np.array([100,200,300,400])\n",
    "condition=np.array([True,True,False,False])\n",
    "ans=np.where(condition,Q,E)\n",
    "ans"
   ]
  },
  {
   "cell_type": "code",
   "execution_count": 32,
   "id": "9946eb00",
   "metadata": {},
   "outputs": [
    {
     "data": {
      "text/plain": [
       "array([[-2.10701739, -1.01813917,  0.45908831,  0.0231343 ],\n",
       "       [ 0.40436767,  1.29610068, -0.24511808,  0.46587218],\n",
       "       [-0.29664613,  0.07220114,  0.33023949,  0.02120161],\n",
       "       [ 1.63351125,  0.10775182, -0.56979629, -0.7719565 ]])"
      ]
     },
     "execution_count": 32,
     "metadata": {},
     "output_type": "execute_result"
    }
   ],
   "source": [
    "rand=randn(4,4)\n",
    "rand"
   ]
  },
  {
   "cell_type": "code",
   "execution_count": 34,
   "id": "b0160b21",
   "metadata": {},
   "outputs": [
    {
     "data": {
      "text/plain": [
       "array([[0.        , 0.        , 0.45908831, 0.0231343 ],\n",
       "       [0.40436767, 1.29610068, 0.        , 0.46587218],\n",
       "       [0.        , 0.07220114, 0.33023949, 0.02120161],\n",
       "       [1.63351125, 0.10775182, 0.        , 0.        ]])"
      ]
     },
     "execution_count": 34,
     "metadata": {},
     "output_type": "execute_result"
    }
   ],
   "source": [
    "np.where(rand<0,0,rand)"
   ]
  },
  {
   "cell_type": "code",
   "execution_count": 38,
   "id": "e9f38052",
   "metadata": {},
   "outputs": [
    {
     "data": {
      "text/plain": [
       "array([99, 13, 84, 16,  5, 29, 46,  4, 85, 76])"
      ]
     },
     "execution_count": 38,
     "metadata": {},
     "output_type": "execute_result"
    }
   ],
   "source": [
    "#Numpy (Array Processing)\n",
    "#1 Create a NumPy array with 10 random integers between 0 and 100.\n",
    "x=np.random.randint(0,100,10)\n",
    "x"
   ]
  },
  {
   "cell_type": "code",
   "execution_count": 43,
   "id": "564fde4f",
   "metadata": {},
   "outputs": [
    {
     "data": {
      "text/plain": [
       "array([ 1, -1,  1, -1, -1, -1, -1, -1,  1,  1])"
      ]
     },
     "execution_count": 43,
     "metadata": {},
     "output_type": "execute_result"
    }
   ],
   "source": [
    "#2 Use the np.where() function to create a new array with the same shape as \n",
    "#the previous one,where values less than 50 are replaced with -1 and\n",
    "#values greater than or equal to 50 are replaced with 1.\n",
    "np.where(x<50,-1,1)"
   ]
  },
  {
   "cell_type": "code",
   "execution_count": 44,
   "id": "4e4e3516",
   "metadata": {},
   "outputs": [
    {
     "data": {
      "text/plain": [
       "array([77, 93, 20, 61, 71,  8, 55, 88, 26, 82, 24, 68, 26, 66, 58, 30, 42,\n",
       "       88, 63, 49])"
      ]
     },
     "execution_count": 44,
     "metadata": {},
     "output_type": "execute_result"
    }
   ],
   "source": [
    "#3 Calculate the mean, median, and standard deviation of the original array.\n",
    "r=np.random.randint(5,100,20)\n",
    "r"
   ]
  },
  {
   "cell_type": "code",
   "execution_count": 45,
   "id": "7ef089ed",
   "metadata": {},
   "outputs": [
    {
     "data": {
      "text/plain": [
       "1095"
      ]
     },
     "execution_count": 45,
     "metadata": {},
     "output_type": "execute_result"
    }
   ],
   "source": [
    "r.sum()"
   ]
  },
  {
   "cell_type": "code",
   "execution_count": 46,
   "id": "347c7348",
   "metadata": {},
   "outputs": [
    {
     "data": {
      "text/plain": [
       "24.89553172760124"
      ]
     },
     "execution_count": 46,
     "metadata": {},
     "output_type": "execute_result"
    }
   ],
   "source": [
    "r.std()"
   ]
  },
  {
   "cell_type": "code",
   "execution_count": 47,
   "id": "acaf3232",
   "metadata": {},
   "outputs": [
    {
     "data": {
      "text/plain": [
       "619.7875"
      ]
     },
     "execution_count": 47,
     "metadata": {},
     "output_type": "execute_result"
    }
   ],
   "source": [
    "r.var()"
   ]
  },
  {
   "cell_type": "code",
   "execution_count": 48,
   "id": "4fcc019c",
   "metadata": {},
   "outputs": [
    {
     "name": "stdout",
     "output_type": "stream",
     "text": [
      "[ 8 20 24 26 26 30 42 49 55 58 61 63 66 68 71 77 82 88 88 93]\n"
     ]
    }
   ],
   "source": [
    "print(np.sort(r))"
   ]
  },
  {
   "cell_type": "code",
   "execution_count": 49,
   "id": "e04a4088",
   "metadata": {},
   "outputs": [
    {
     "name": "stdout",
     "output_type": "stream",
     "text": [
      "[ -8 -20 -24 -26 -26 -30 -42 -49 -55 -58 -61 -63 -66 -68 -71 -77 -82 -88\n",
      " -88 -93]\n"
     ]
    }
   ],
   "source": [
    "#5 Sort the original array in ascending order\n",
    "print(-np.sort(r))"
   ]
  },
  {
   "cell_type": "code",
   "execution_count": 50,
   "id": "61d976c9",
   "metadata": {},
   "outputs": [
    {
     "name": "stdout",
     "output_type": "stream",
     "text": [
      "[-93 -88 -88 -82 -77 -71 -68 -66 -63 -61 -58 -55 -49 -42 -30 -26 -26 -24\n",
      " -20  -8]\n"
     ]
    }
   ],
   "source": [
    "print(np.sort(-r))"
   ]
  },
  {
   "cell_type": "code",
   "execution_count": 51,
   "id": "41f63dbc",
   "metadata": {},
   "outputs": [
    {
     "name": "stdout",
     "output_type": "stream",
     "text": [
      "[ 8 20 24 26 30 42 49 55 58 61 63 66 68 71 77 82 88 93]\n"
     ]
    }
   ],
   "source": [
    "#6 Find the unique values in the original array\n",
    "print(np.unique(r))"
   ]
  },
  {
   "cell_type": "code",
   "execution_count": 52,
   "id": "c9f8b77c",
   "metadata": {},
   "outputs": [
    {
     "data": {
      "text/plain": [
       "array([[ 5, 10, 15],\n",
       "       [20, 25, 30],\n",
       "       [35, 40, 45]])"
      ]
     },
     "execution_count": 52,
     "metadata": {},
     "output_type": "execute_result"
    }
   ],
   "source": [
    "arr_2d=np.array(([5,10,15],[20,25,30],[35,40,45]))\n",
    "arr_2d\n"
   ]
  },
  {
   "cell_type": "code",
   "execution_count": 54,
   "id": "5700bf91",
   "metadata": {},
   "outputs": [
    {
     "data": {
      "text/plain": [
       "array([[10, 15],\n",
       "       [25, 30],\n",
       "       [40, 45]])"
      ]
     },
     "execution_count": 54,
     "metadata": {},
     "output_type": "execute_result"
    }
   ],
   "source": [
    "arr_2d[:3,1:]\n"
   ]
  },
  {
   "cell_type": "code",
   "execution_count": 56,
   "id": "6d97dc08",
   "metadata": {},
   "outputs": [
    {
     "ename": "SyntaxError",
     "evalue": "invalid syntax (2306622485.py, line 5)",
     "output_type": "error",
     "traceback": [
      "\u001b[1;36m  File \u001b[1;32m\"C:\\Users\\user\\AppData\\Local\\Temp\\ipykernel_6284\\2306622485.py\"\u001b[1;36m, line \u001b[1;32m5\u001b[0m\n\u001b[1;33m    print(k%=0,k)\u001b[0m\n\u001b[1;37m           ^\u001b[0m\n\u001b[1;31mSyntaxError\u001b[0m\u001b[1;31m:\u001b[0m invalid syntax\n"
     ]
    }
   ],
   "source": [
    " #4 Create a boolean array that is True where the values in the original array are even, and False otherwise.\n",
    "k =np.array([[42,56,89,65],\n",
    "            [99,88,42,12],\n",
    "            [55,42,17,18]])\n",
    "np.inld()\n",
    "    "
   ]
  },
  {
   "cell_type": "code",
   "execution_count": 57,
   "id": "7b6a0ca2",
   "metadata": {},
   "outputs": [
    {
     "data": {
      "text/plain": [
       "array([ True,  True, False, False,  True])"
      ]
     },
     "execution_count": 57,
     "metadata": {},
     "output_type": "execute_result"
    }
   ],
   "source": [
    "#7 Use the np.in1d() function to create a boolean array indicating which elements of the original\n",
    "#array are also present in a new array with 5 random integers between 0 and 100.\n",
    "k =np.array([[42,56,89,65],\n",
    "            [99,88,42,12],\n",
    "            [55,42,17,18]])\n",
    "np.in1d([42,88,10,0,12],k)"
   ]
  },
  {
   "cell_type": "code",
   "execution_count": null,
   "id": "0dd4402a",
   "metadata": {},
   "outputs": [],
   "source": []
  },
  {
   "cell_type": "code",
   "execution_count": null,
   "id": "ac90ec21",
   "metadata": {},
   "outputs": [],
   "source": []
  }
 ],
 "metadata": {
  "kernelspec": {
   "display_name": "Python 3 (ipykernel)",
   "language": "python",
   "name": "python3"
  },
  "language_info": {
   "codemirror_mode": {
    "name": "ipython",
    "version": 3
   },
   "file_extension": ".py",
   "mimetype": "text/x-python",
   "name": "python",
   "nbconvert_exporter": "python",
   "pygments_lexer": "ipython3",
   "version": "3.9.13"
  }
 },
 "nbformat": 4,
 "nbformat_minor": 5
}
